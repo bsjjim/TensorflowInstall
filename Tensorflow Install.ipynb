{
 "cells": [
  {
   "cell_type": "markdown",
   "metadata": {},
   "source": [
    "# 설치 환경\n",
    "OS : 우분투 14.04 <br>\n",
    "개발환경 : 파이썬 2.7 <br>\n",
    "<br>"
   ]
  },
  {
   "cell_type": "markdown",
   "metadata": {
    "collapsed": true
   },
   "source": [
    "# Tensorflow 파이썬 환경구축\n",
    "sudo apt-get update <br>\n",
    "<br>\n",
    "sudo apt-get upgrade <br>\n",
    "<br>\n",
    "sudo apt-get install python-pip python-dev build-essential <br>\n",
    "<br>\n",
    "sudo apt-get install ipython <br>\n",
    "<br>\n",
    "pip install numpy pandas <br>\n",
    "<br>\n",
    "sudo apt-get install libblas-dev <br>\n",
    "<br>\n",
    "sudo apt-get install liblapack-dev <br>\n",
    "<br>\n",
    "sudo apt-get install libblas3gf libgcc1 libgfortran3 liblapack3gf libstdc++6 gfortran <br>\n",
    "<br>\n",
    "pip install -U scipy <br>\n",
    "<br>\n",
    "sudo apt-get install libpng-dev libfreetype6-dev libjpeg8-dev <br>\n",
    "<br>\n",
    "pip install matplotlib <br>\n",
    "<br>\n",
    "pip install -U pandas scikit-learn <br>\n",
    "<br>\n",
    "=====<br>\n",
    "sudo apt-get install aptitude <br>\n",
    "sudo aptitude -f install <br>\n",
    "<br>"
   ]
  },
  {
   "cell_type": "markdown",
   "metadata": {},
   "source": [
    "# Tensorflow 설치\n",
    "참조 URL : https://www.tensorflow.org/versions/r0.8/get_started/os_setup.html#pip-installation <br>\n",
    "<br>\n",
    "Python 2.7, Tensorflow 0.8 버전 설치<br>\n",
    "<br>\n",
    "pip install --upgrade https://storage.googleapis.com/tensorflow/linux/cpu/tensorflow-0.8.0-cp27-none-linux_x86_64.whl <br>\n",
    "<br>"
   ]
  },
  {
   "cell_type": "markdown",
   "metadata": {},
   "source": [
    "# git 설치\n",
    "sudo apt-get install git-core <br>\n",
    "<br>"
   ]
  },
  {
   "cell_type": "markdown",
   "metadata": {},
   "source": [
    "# pycharm 다운받기\n",
    "https://www.jetbrains.com/pycharm/download/ 에서 pycharm 다운로드 <br>\n",
    "<br>\n",
    "링크 : https://www.jetbrains.com/pycharm/download/#section=linux <br>\n",
    "<br>\n",
    "압축을 풀고 $PYCHARM/bin/pycharm.sh 실행 <br>\n",
    "<br>"
   ]
  },
  {
   "cell_type": "markdown",
   "metadata": {},
   "source": [
    "# git 예제 다운받기\n",
    "1. git clone https://github.com/tensorflow/tensorflow.git tensorflow <br>\n",
    "<br>\n",
    "2. git clone https://github.com/aymericdamien/TensorFlow-Examples.git aymericdamien <br>\n",
    "<br>\n",
    "3. git clone https://github.com/ilblackdragon/tf_examples.git ilblackdragon <br>\n",
    "<br>\n",
    "4. git clone https://github.com/nlintz/TensorFlow-Tutorials.git nlintz <br>\n",
    "<br>\n",
    "5. git clone https://github.com/pkmital/tensorflow_tutorials.git pkmital <br>\n",
    "<br>"
   ]
  }
 ],
 "metadata": {
  "kernelspec": {
   "display_name": "Python 3",
   "language": "python",
   "name": "python3"
  },
  "language_info": {
   "codemirror_mode": {
    "name": "ipython",
    "version": 3
   },
   "file_extension": ".py",
   "mimetype": "text/x-python",
   "name": "python",
   "nbconvert_exporter": "python",
   "pygments_lexer": "ipython3",
   "version": "3.4.4"
  }
 },
 "nbformat": 4,
 "nbformat_minor": 0
}
